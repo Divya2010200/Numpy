{
 "cells": [
  {
   "cell_type": "code",
   "execution_count": 1,
   "id": "8fe3b140",
   "metadata": {},
   "outputs": [],
   "source": [
    "import numpy as np"
   ]
  },
  {
   "cell_type": "code",
   "execution_count": 3,
   "id": "6bc1cf91",
   "metadata": {},
   "outputs": [],
   "source": [
    "o=np.genfromtxt(r\"C:\\Users\\admin\\Downloads\\tipsf.csv\",dtype=object,skip_header=1,delimiter=\",\")"
   ]
  },
  {
   "cell_type": "code",
   "execution_count": 4,
   "id": "7779772e",
   "metadata": {},
   "outputs": [
    {
     "data": {
      "text/plain": [
       "array([[b'0', b'16.99', b'1.01', ..., b'1', b'0', b'2'],\n",
       "       [b'1', b'10.34', b'1.66', ..., b'1', b'0', b'3'],\n",
       "       [b'2', b'21.01', b'3.5', ..., b'1', b'0', b'3'],\n",
       "       ...,\n",
       "       [b'241', b'22.67', b'2.0', ..., b'0', b'0', b'2'],\n",
       "       [b'242', b'17.82', b'1.75', ..., b'0', b'0', b'2'],\n",
       "       [b'243', b'18.78', b'3.0', ..., b'2', b'0', b'2']], dtype=object)"
      ]
     },
     "execution_count": 4,
     "metadata": {},
     "output_type": "execute_result"
    }
   ],
   "source": [
    "o"
   ]
  },
  {
   "cell_type": "code",
   "execution_count": 15,
   "id": "b2df624e",
   "metadata": {},
   "outputs": [
    {
     "data": {
      "text/plain": [
       "4827.770000000001"
      ]
     },
     "execution_count": 15,
     "metadata": {},
     "output_type": "execute_result"
    }
   ],
   "source": [
    "#what is total bill value\n",
    "np.sum(o,axis=0,dtype=float)[1]"
   ]
  },
  {
   "cell_type": "code",
   "execution_count": 18,
   "id": "c16d429a",
   "metadata": {},
   "outputs": [
    {
     "data": {
      "text/plain": [
       "731.58"
      ]
     },
     "execution_count": 18,
     "metadata": {},
     "output_type": "execute_result"
    }
   ],
   "source": [
    "#what is total tip value\n",
    "np.sum(o,axis=0,dtype=float)[2]"
   ]
  },
  {
   "cell_type": "code",
   "execution_count": 44,
   "id": "4599df11",
   "metadata": {},
   "outputs": [
    {
     "name": "stdout",
     "output_type": "stream",
     "text": [
      "Number of Saturdays are 87\n",
      "Number of Sundays are 76\n",
      "Number of Fridays are 19\n",
      "Number of Thursdays are 62\n"
     ]
    }
   ],
   "source": [
    "#How many sat,sundays,firdays,thursday\n",
    "sat=0;sun=0;fri=0;thu=0\n",
    "for x in range(0,244):\n",
    "    if o[x,5]==b'1':\n",
    "        sun+=1\n",
    "    elif o[x,5]==b'0':\n",
    "        sat+=1\n",
    "    elif o[x,5]==b'2':\n",
    "        thu+=1\n",
    "    else:\n",
    "        fri+=1\n",
    "print(\"Number of Saturdays are {}\\nNumber of Sundays are {}\\nNumber of Fridays are {}\\nNumber of Thursdays are {}\".format(sat,sun,fri,thu))"
   ]
  },
  {
   "cell_type": "code",
   "execution_count": 40,
   "id": "19338ce4",
   "metadata": {},
   "outputs": [
    {
     "name": "stdout",
     "output_type": "stream",
     "text": [
      "Number of smokers are 93\n"
     ]
    }
   ],
   "source": [
    "#How many smokers\n",
    "count=0\n",
    "for x in range(0,244):\n",
    "    if o[x,4]==b'1':\n",
    "        count+=1\n",
    "print(\"Number of smokers are {}\".format(count))"
   ]
  },
  {
   "cell_type": "code",
   "execution_count": 65,
   "id": "298917fc",
   "metadata": {},
   "outputs": [
    {
     "name": "stdout",
     "output_type": "stream",
     "text": [
      "Avarage tip from female are 2.833448275862069\n",
      "Avarage tip from male are 3.0896178343949052\n"
     ]
    }
   ],
   "source": [
    "#What is the avarage tip given by male and female\n",
    "female=0;male=0;count_f=0;count_m=0\n",
    "for x in range(0,244):\n",
    "    if o[x,3]==b'0':\n",
    "        female+=float(o[x,2])\n",
    "        count_f+=1\n",
    "    else:\n",
    "        male+=float(o[x,2])\n",
    "        count_m+=1\n",
    "print(\"Avarage tip from female are {}\\nAvarage tip from male are {}\".format(female/count_f,male/count_m))"
   ]
  },
  {
   "cell_type": "code",
   "execution_count": 66,
   "id": "a74c5a61",
   "metadata": {},
   "outputs": [
    {
     "name": "stdout",
     "output_type": "stream",
     "text": [
      "246.51 485.0700000000001\n"
     ]
    }
   ],
   "source": [
    "#How much amount have been spent by female and male\n",
    "print(female,male)"
   ]
  },
  {
   "cell_type": "code",
   "execution_count": 67,
   "id": "12862996",
   "metadata": {},
   "outputs": [
    {
     "name": "stdout",
     "output_type": "stream",
     "text": [
      "Total amount spent by female is 1817.4600000000003\n",
      "Total amount spent by male is 3741.8900000000026\n"
     ]
    }
   ],
   "source": [
    "for x in range(0,244):\n",
    "    if o[x,3]==b'0':\n",
    "        female+=float(o[x,1])\n",
    "    else:\n",
    "        male+=float(o[x,1])\n",
    "print(\"Total amount spent by female is {}\\nTotal amount spent by male is {}\".format(female,male))"
   ]
  },
  {
   "cell_type": "code",
   "execution_count": 75,
   "id": "688a1554",
   "metadata": {},
   "outputs": [
    {
     "name": "stdout",
     "output_type": "stream",
     "text": [
      "Minimum tip is 1.0\n",
      "Maximum tip is 9.0\n"
     ]
    }
   ],
   "source": [
    "#What is the min and max tip given\n",
    "print(\"Minimum tip is\",float(np.min(o,axis=0)[2]))\n",
    "print(\"Maximum tip is\",float(np.max(o,axis=0)[2]))"
   ]
  },
  {
   "cell_type": "code",
   "execution_count": 78,
   "id": "29a34f25",
   "metadata": {},
   "outputs": [
    {
     "name": "stdout",
     "output_type": "stream",
     "text": [
      "Number of females for dinner 52\n",
      "Number of males for dinner 124\n",
      "Number of females of lunch 35\n",
      "Number males for lunch 33\n"
     ]
    }
   ],
   "source": [
    "#How amny males and females are going for dinner and lunch\n",
    "dinner_f=0;dinner_m=0;lunch_m=0;lunch_f=0\n",
    "for x in range(0,244):\n",
    "    if o[x,3]==b'0' and o[x,6]==b'0':\n",
    "        dinner_f+=1\n",
    "    elif o[x,3]==b'0' and o[x,6]==b'1':\n",
    "        lunch_f+=1\n",
    "    elif o[x,3]==b'1' and o[x,6]==b'0':\n",
    "        dinner_m+=1\n",
    "    else:\n",
    "        lunch_m+=1\n",
    "print(\"Number of females for dinner {}\\nNumber of males for dinner {}\\nNumber of females of lunch {}\\nNumber males for lunch {}\".format(dinner_f,dinner_m,lunch_f,lunch_m))"
   ]
  },
  {
   "cell_type": "code",
   "execution_count": 81,
   "id": "00bd5bd3",
   "metadata": {},
   "outputs": [
    {
     "name": "stdout",
     "output_type": "stream",
     "text": [
      "Avarage Size is 2.569672131147541\n"
     ]
    }
   ],
   "source": [
    "#Find out avg size\n",
    "print(\"Avarage Size is\",np.mean(o,dtype=float,axis=0)[7])"
   ]
  },
  {
   "cell_type": "code",
   "execution_count": 83,
   "id": "17721625",
   "metadata": {},
   "outputs": [
    {
     "name": "stdout",
     "output_type": "stream",
     "text": [
      "Number of females smokers 33\n",
      "Number of males smokers 60\n"
     ]
    }
   ],
   "source": [
    "#How amny female smoker and male smokers\n",
    "smokey_f=0;smokey_m=0\n",
    "for x in range(0,244):\n",
    "    if o[x,3]==b'0' and o[x,4]==b'1':\n",
    "        smokey_f+=1\n",
    "    elif o[x,3]==b'1' and o[x,4]==b'1':\n",
    "        smokey_m+=1\n",
    "    else:\n",
    "        pass\n",
    "print(\"Number of females smokers {}\\nNumber of males smokers {}\".format(smokey_f,smokey_m))"
   ]
  },
  {
   "cell_type": "code",
   "execution_count": null,
   "id": "759ecbfa",
   "metadata": {},
   "outputs": [],
   "source": []
  }
 ],
 "metadata": {
  "kernelspec": {
   "display_name": "Python 3 (ipykernel)",
   "language": "python",
   "name": "python3"
  },
  "language_info": {
   "codemirror_mode": {
    "name": "ipython",
    "version": 3
   },
   "file_extension": ".py",
   "mimetype": "text/x-python",
   "name": "python",
   "nbconvert_exporter": "python",
   "pygments_lexer": "ipython3",
   "version": "3.10.9"
  }
 },
 "nbformat": 4,
 "nbformat_minor": 5
}
